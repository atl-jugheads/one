{
 "cells": [
  {
   "cell_type": "markdown",
   "metadata": {},
   "source": [
    "# Case Studies"
   ]
  },
  {
   "cell_type": "markdown",
   "metadata": {},
   "source": [
    "* __9:45-10:15__"
   ]
  },
  {
   "cell_type": "markdown",
   "metadata": {},
   "source": [
    "* __10:15-10:45__"
   ]
  },
  {
   "cell_type": "markdown",
   "metadata": {},
   "source": [
    "* __10:45-11:15__\n",
    "\n",
    "# [Powers of_ten_ and the relative size of things in science](# \"Nick and Tony\")\n",
    "\n",
    "#### [Nick Bollweg](https://github.com/bollwyvl) and [Tony Fast](https://github.com/tonyfast)\n",
    "Science, and its application to engineering, policy, and business, ultimately affects people and communities. In solving new problems, while we may make use of ever more data and computers, we must also have greater impact and reach for people.  Open science, along with open source software and open data, continues to expand the frontiers of innovation.\n",
    "\n",
    "Join Nick and Tony in traversing the powers of ten with data-driven stories.  Experts in visual problem solving with Jupyter, Nick and Tony have explored problems across technology silos, length scales, and disciplines.  Together, we hope to provide a rough map of what might be on open science’s frontier of reusable, computable information, or, failing that, a style guide for any citizen scientist looking to access new powers often from the cutting edges of open science and software.\n",
    "\n",
    "<iframe width=\"640\" height=\"360\" src=\"https://www.youtube.com/embed/0fKBhvDjuy0\" frameborder=\"0\" allowfullscreen></iframe>"
   ]
  },
  {
   "cell_type": "markdown",
   "metadata": {},
   "source": [
    "# Short Talks"
   ]
  },
  {
   "cell_type": "markdown",
   "metadata": {},
   "source": [
    "* __11:30-11:40__"
   ]
  },
  {
   "cell_type": "markdown",
   "metadata": {},
   "source": [
    "* __11:40-11:50__\n",
    "\n",
    "# [SQL with Jupyter Notebooks](# )\n",
    "\n",
    "#### [Greg Werner](https://github.com/jgwerner)\n",
    "\n",
    "Many data analysts love SQL for data analysis, for good reason. SQL is a powerful language and is used by countless data analysts and data scientists alike. As some of these personas transition from analysts to data scientists (where the world is indeed gray), having a SQL editor within Jupyter Notebooks becomes a powerful proposition. Learn how to add open source SQL editors as extensions to Jupyter Notebooks with this talk. Source code will be available for all attendees."
   ]
  },
  {
   "cell_type": "markdown",
   "metadata": {},
   "source": [
    "* __11:50-12:05__"
   ]
  },
  {
   "cell_type": "markdown",
   "metadata": {},
   "source": [
    "* __12:05-12:20__\n",
    "\n",
    "# [Dynamic Notebook Generation for Reports]()\n",
    "\n",
    "#### [Casey Hartnett](https://github.com/caseyhartnett)\n",
    "\n",
    "We will start by learning what makes a IPython Notebook. We will then take an example report for a hotel and create a new notebook to generate this report for any number of hotels. We can generate a single file with repeated analysis for different hotels or generate separate notebooks for each. Lastly, we will learn how to run this process from the command line to streamline reporting process further."
   ]
  },
  {
   "cell_type": "markdown",
   "metadata": {},
   "source": [
    "* __12:20-12:30__\n",
    "\n",
    "Collective questions from the previous talks."
   ]
  },
  {
   "cell_type": "markdown",
   "metadata": {},
   "source": [
    "* __12:30-12:45__\n",
    "\n",
    "Quick oral talks from the attendees about the day."
   ]
  },
  {
   "cell_type": "markdown",
   "metadata": {},
   "source": [
    "* __12:45-1:00__\n",
    "\n",
    "![](https://m.popkey.co/6e943e/r6RQM_f-thumbnail-100-0_s-600x0.jpg)"
   ]
  }
 ],
 "metadata": {
  "kernelspec": {
   "display_name": "Python 3",
   "language": "python",
   "name": "python3"
  },
  "language_info": {
   "codemirror_mode": {
    "name": "ipython",
    "version": 3
   },
   "file_extension": ".py",
   "mimetype": "text/x-python",
   "name": "python",
   "nbconvert_exporter": "python",
   "pygments_lexer": "ipython3",
   "version": "3.5.3"
  }
 },
 "nbformat": 4,
 "nbformat_minor": 2
}
