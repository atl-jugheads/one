{
 "cells": [
  {
   "cell_type": "code",
   "execution_count": null,
   "metadata": {},
   "outputs": [],
   "source": [
    "    %reload_ext literacy"
   ]
  },
  {
   "cell_type": "code",
   "execution_count": null,
   "metadata": {},
   "outputs": [],
   "source": [
    "about.md"
   ]
  },
  {
   "cell_type": "markdown",
   "metadata": {},
   "source": [
    "---\n",
    "\n",
    "# Developer\n",
    "\n",
    "All build logic is contained with in the `readme.ipynb` file.  Use `nbconvert` to execute this notebook with the command below.\n",
    "\n",
    "    !jupyter nbconvert --to markdown --config config.py readme.ipynb\n",
    "    \n",
    "## [Conference Website](https://tonyfast.github.io/callistory/)\n",
    "\n",
    "\n",
    "This project maintains an index of notebooks on the `master` branch.  The Github Pages deployment separates out the HTML and Markdown content from the source documents.   \n",
    "\n",
    "### [Travis Pages Deployment](https://docs.travis-ci.com/user/deployment/pages/)"
   ]
  },
  {
   "cell_type": "code",
   "execution_count": null,
   "metadata": {},
   "outputs": [],
   "source": [
    "    %%file config.py\n",
    "    c.Exporter.preprocessors.append('literacy.template.Execute')\n",
    "    c.TemplateExporter.exclude_input=True\n",
    "    c.TemplateExporter.exclude_input_prompt=True"
   ]
  },
  {
   "cell_type": "code",
   "execution_count": null,
   "metadata": {},
   "outputs": [],
   "source": [
    "    !jupyter nbconvert --to markdown *.ipynb\n",
    "    !jupyter nbconvert --config config.py index.ipynb "
   ]
  },
  {
   "cell_type": "code",
   "execution_count": null,
   "metadata": {},
   "outputs": [],
   "source": [
    "contributing.md"
   ]
  },
  {
   "cell_type": "code",
   "execution_count": null,
   "metadata": {},
   "outputs": [],
   "source": [
    "    %%file custom.css\n",
    "    .output code {display: none;}"
   ]
  }
 ],
 "metadata": {
  "kernelspec": {
   "display_name": "Python 3",
   "language": "python",
   "name": "python3"
  },
  "language_info": {
   "codemirror_mode": {
    "name": "ipython",
    "version": 3
   },
   "file_extension": ".py",
   "mimetype": "text/x-python",
   "name": "python",
   "nbconvert_exporter": "python",
   "pygments_lexer": "ipython3",
   "version": "3.5.3"
  }
 },
 "nbformat": 4,
 "nbformat_minor": 2
}
