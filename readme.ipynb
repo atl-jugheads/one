{
 "cells": [
  {
   "cell_type": "markdown",
   "metadata": {},
   "source": [
    "# Callistory\n",
    "\n",
    "`callistory` is a reusable project to assist creating DIY technology events.  This project will prototype the first Callisto Morn event in Atlanta, Georgia on November 11."
   ]
  },
  {
   "cell_type": "markdown",
   "metadata": {},
   "source": [
    "# Build\n",
    "\n",
    "All build logic is contained with in the `readme.ipynb` file.  Use `nbconvert` to execute this notebook with the command below.\n",
    "\n",
    "    !jupyter nbconvert --inplace --execute --to notebook readme.ipynb"
   ]
  },
  {
   "cell_type": "code",
   "execution_count": 21,
   "metadata": {},
   "outputs": [
    {
     "data": {
      "text/markdown": [
       "    !jupyter nbconvert --to markdown *.ipynb\n",
       "    !jupyter nbconvert --execute --TemplateExporter.exclude_input=True --TemplateExporter.exclude_input=True index.ipynb "
      ],
      "text/plain": [
       "<IPython.core.display.Markdown object>"
      ]
     },
     "metadata": {},
     "output_type": "display_data"
    },
    {
     "name": "stdout",
     "output_type": "stream",
     "text": [
      "[NbConvertApp] Converting notebook about.ipynb to markdown\n",
      "[NbConvertApp] Writing 449 bytes to about.md\n",
      "[NbConvertApp] Converting notebook contributing.ipynb to markdown\n",
      "[NbConvertApp] Writing 648 bytes to contributing.md\n",
      "[NbConvertApp] Converting notebook index.ipynb to markdown\n",
      "[NbConvertApp] Writing 6934 bytes to index.md\n",
      "[NbConvertApp] Converting notebook long.ipynb to markdown\n",
      "[NbConvertApp] Writing 1177 bytes to long.md\n",
      "[NbConvertApp] Converting notebook participants.ipynb to markdown\n",
      "[NbConvertApp] Writing 30 bytes to participants.md\n",
      "[NbConvertApp] Converting notebook readme.ipynb to markdown\n",
      "[NbConvertApp] Writing 3112 bytes to readme.md\n",
      "[NbConvertApp] Converting notebook short.ipynb to markdown\n",
      "[NbConvertApp] Writing 124 bytes to short.md\n",
      "[NbConvertApp] Converting notebook index.ipynb to html\n",
      "[NbConvertApp] Executing notebook with kernel: python3\n",
      "[IPKernelApp] ERROR | Exception in message handler:\n",
      "Traceback (most recent call last):\n",
      "  File \"/Users/tonyfast/anaconda/lib/python3.5/site-packages/ipykernel/kernelbase.py\", line 235, in dispatch_shell\n",
      "    handler(stream, idents, msg)\n",
      "  File \"/Users/tonyfast/anaconda/lib/python3.5/site-packages/ipykernel/kernelbase.py\", line 399, in execute_request\n",
      "    user_expressions, allow_stdin)\n",
      "  File \"/Users/tonyfast/anaconda/lib/python3.5/site-packages/ipykernel/ipkernel.py\", line 196, in do_execute\n",
      "    res = shell.run_cell(code, store_history=store_history, silent=silent)\n",
      "  File \"/Users/tonyfast/literacy2/literacy/run.ipynb\", line 19, in _run_cell\n",
      "    \"execution_count\": 7,\n",
      "  File \"/Users/tonyfast/anaconda/lib/python3.5/contextlib.py\", line 59, in __enter__\n",
      "    return next(self.gen)\n",
      "  File \"/Users/tonyfast/literacy2/literacy/run.ipynb\", line 31, in _run\n",
      "    ]\n",
      "  File \"/Users/tonyfast/literacy2/literacy/template.ipynb\", line 47, in template\n",
      "    \"cell_type\": \"code\",\n",
      "  File \"/Users/tonyfast/anaconda/lib/python3.5/site-packages/jinja2/environment.py\", line 1008, in render\n",
      "    return self.environment.handle_exception(exc_info, True)\n",
      "  File \"/Users/tonyfast/anaconda/lib/python3.5/site-packages/jinja2/environment.py\", line 780, in handle_exception\n",
      "    reraise(exc_type, exc_value, tb)\n",
      "  File \"/Users/tonyfast/anaconda/lib/python3.5/site-packages/jinja2/_compat.py\", line 37, in reraise\n",
      "    raise value.with_traceback(tb)\n",
      "  File \"<template>\", line 3, in top-level template code\n",
      "jinja2.exceptions.UndefinedError: 'presentations' is undefined\n",
      "[NbConvertApp] ERROR | Timeout waiting for execute reply (30s).\n",
      "Traceback (most recent call last):\n",
      "  File \"/Users/tonyfast/anaconda/lib/python3.5/site-packages/nbconvert/preprocessors/execute.py\", line 314, in run_cell\n",
      "    msg = self.kc.shell_channel.get_msg(timeout=timeout)\n",
      "  File \"/Users/tonyfast/anaconda/lib/python3.5/site-packages/jupyter_client/blocking/channels.py\", line 57, in get_msg\n",
      "    raise Empty\n",
      "queue.Empty\n",
      "\n",
      "During handling of the above exception, another exception occurred:\n",
      "\n",
      "Traceback (most recent call last):\n",
      "  File \"/Users/tonyfast/anaconda/bin/jupyter-nbconvert\", line 11, in <module>\n",
      "    load_entry_point('nbconvert', 'console_scripts', 'jupyter-nbconvert')()\n",
      "  File \"/Users/tonyfast/anaconda/lib/python3.5/site-packages/jupyter_core/application.py\", line 267, in launch_instance\n",
      "    return super(JupyterApp, cls).launch_instance(argv=argv, **kwargs)\n",
      "  File \"/Users/tonyfast/anaconda/lib/python3.5/site-packages/traitlets/config/application.py\", line 658, in launch_instance\n",
      "    app.start()\n",
      "  File \"/Users/tonyfast/anaconda/lib/python3.5/site-packages/nbconvert/nbconvertapp.py\", line 313, in start\n",
      "    self.convert_notebooks()\n",
      "  File \"/Users/tonyfast/anaconda/lib/python3.5/site-packages/nbconvert/nbconvertapp.py\", line 481, in convert_notebooks\n",
      "    self.convert_single_notebook(notebook_filename)\n",
      "  File \"/Users/tonyfast/anaconda/lib/python3.5/site-packages/nbconvert/nbconvertapp.py\", line 452, in convert_single_notebook\n",
      "    output, resources = self.export_single_notebook(notebook_filename, resources, input_buffer=input_buffer)\n",
      "  File \"/Users/tonyfast/anaconda/lib/python3.5/site-packages/nbconvert/nbconvertapp.py\", line 381, in export_single_notebook\n",
      "    output, resources = self.exporter.from_filename(notebook_filename, resources=resources)\n",
      "  File \"/Users/tonyfast/anaconda/lib/python3.5/site-packages/nbconvert/exporters/exporter.py\", line 172, in from_filename\n",
      "    return self.from_file(f, resources=resources, **kw)\n",
      "  File \"/Users/tonyfast/anaconda/lib/python3.5/site-packages/nbconvert/exporters/exporter.py\", line 190, in from_file\n",
      "    return self.from_notebook_node(nbformat.read(file_stream, as_version=4), resources=resources, **kw)\n",
      "  File \"/Users/tonyfast/anaconda/lib/python3.5/site-packages/nbconvert/exporters/html.py\", line 84, in from_notebook_node\n",
      "    return super(HTMLExporter, self).from_notebook_node(nb, resources, **kw)\n",
      "  File \"/Users/tonyfast/anaconda/lib/python3.5/site-packages/nbconvert/exporters/templateexporter.py\", line 268, in from_notebook_node\n",
      "    nb_copy, resources = super(TemplateExporter, self).from_notebook_node(nb, resources, **kw)\n",
      "  File \"/Users/tonyfast/anaconda/lib/python3.5/site-packages/nbconvert/exporters/exporter.py\", line 132, in from_notebook_node\n",
      "    nb_copy, resources = self._preprocess(nb_copy, resources)\n",
      "  File \"/Users/tonyfast/anaconda/lib/python3.5/site-packages/nbconvert/exporters/exporter.py\", line 309, in _preprocess\n",
      "    nbc, resc = preprocessor(nbc, resc)\n",
      "  File \"/Users/tonyfast/anaconda/lib/python3.5/site-packages/nbconvert/preprocessors/base.py\", line 47, in __call__\n",
      "    return self.preprocess(nb,resources)\n",
      "  File \"/Users/tonyfast/anaconda/lib/python3.5/site-packages/nbconvert/preprocessors/execute.py\", line 242, in preprocess\n",
      "    nb, resources = super(ExecutePreprocessor, self).preprocess(nb, resources)\n",
      "  File \"/Users/tonyfast/anaconda/lib/python3.5/site-packages/nbconvert/preprocessors/base.py\", line 70, in preprocess\n",
      "    nb.cells[index], resources = self.preprocess_cell(cell, resources, index)\n",
      "  File \"/Users/tonyfast/anaconda/lib/python3.5/site-packages/nbconvert/preprocessors/execute.py\", line 260, in preprocess_cell\n",
      "    outputs = self.run_cell(cell, cell_index)\n",
      "  File \"/Users/tonyfast/anaconda/lib/python3.5/site-packages/nbconvert/preprocessors/execute.py\", line 327, in run_cell\n",
      "    raise exception(\"Cell execution timed out\")\n",
      "TimeoutError: Cell execution timed out\n"
     ]
    }
   ],
   "source": [
    "    !jupyter nbconvert --to markdown *.ipynb\n",
    "    !jupyter nbconvert --execute --TemplateExporter.exclude_input=True --TemplateExporter.exclude_input=True index.ipynb "
   ]
  },
  {
   "cell_type": "code",
   "execution_count": 14,
   "metadata": {},
   "outputs": [
    {
     "data": {
      "text/markdown": [
       "# Development\n",
       "\n",
       "See __[contributing.ipynb](contributing.ipynb)__ for more details.\n",
       "\n",
       "* __[readme.ipynb](readme.ipynb)__ provides instruction for external services.\n",
       "* __[about.ipynb](about.ipynb)__ provides information about the event.  Who what where when how why.\n",
       "* __[long.ipynb](long.ipynb)__ provides provides long format presentations information.\n",
       "* __[short.ipynb](short.ipynb)__ provides provides short format presentations information.\n",
       "* __[participants.ipynb](participants.ipynb)__ provides extra information about the conference participants.\n",
       "* __[code_of_conduct.md](code_of_conduct.md)__"
      ],
      "text/plain": [
       "<IPython.core.display.Markdown object>"
      ]
     },
     "metadata": {},
     "output_type": "display_data"
    }
   ],
   "source": [
    "# Development\n",
    "\n",
    "See __[contributing.ipynb](contributing.ipynb)__ for more details.\n",
    "\n",
    "* __[readme.ipynb](readme.ipynb)__ provides instruction for external services.\n",
    "* __[about.ipynb](about.ipynb)__ provides information about the event.  Who what where when how why.\n",
    "* __[long.ipynb](long.ipynb)__ provides provides long format presentations information.\n",
    "* __[short.ipynb](short.ipynb)__ provides provides short format presentations information.\n",
    "* __[participants.ipynb](participants.ipynb)__ provides extra information about the conference participants.\n",
    "* __[code_of_conduct.md](code_of_conduct.md)__"
   ]
  },
  {
   "cell_type": "code",
   "execution_count": 11,
   "metadata": {},
   "outputs": [
    {
     "data": {
      "text/markdown": [
       "    %%file custom.css\n",
       "    .output code {display: none;}"
      ],
      "text/plain": [
       "<IPython.core.display.Markdown object>"
      ]
     },
     "metadata": {},
     "output_type": "display_data"
    },
    {
     "name": "stdout",
     "output_type": "stream",
     "text": [
      "Overwriting custom.css\n"
     ]
    }
   ],
   "source": [
    "    %%file custom.css\n",
    "    .output code {display: none;}"
   ]
  }
 ],
 "metadata": {
  "kernelspec": {
   "display_name": "Python 3",
   "language": "python",
   "name": "python3"
  },
  "language_info": {
   "codemirror_mode": {
    "name": "ipython",
    "version": 3
   },
   "file_extension": ".py",
   "mimetype": "text/x-python",
   "name": "python",
   "nbconvert_exporter": "python",
   "pygments_lexer": "ipython3",
   "version": "3.5.3"
  }
 },
 "nbformat": 4,
 "nbformat_minor": 2
}
