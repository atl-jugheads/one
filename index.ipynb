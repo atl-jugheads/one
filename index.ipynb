{
 "cells": [
  {
   "cell_type": "code",
   "execution_count": 2,
   "metadata": {
    "collapsed": true
   },
   "outputs": [],
   "source": [
    "    %reload_ext literacy.template"
   ]
  },
  {
   "cell_type": "code",
   "execution_count": 1,
   "metadata": {
    "collapsed": true
   },
   "outputs": [],
   "source": [
    "    from determiners import *; from pandas import *;        \n",
    "    %reload_ext literacy.template\n",
    "    import long, short, about"
   ]
  },
  {
   "cell_type": "code",
   "execution_count": 4,
   "metadata": {},
   "outputs": [
    {
     "data": {
      "text/markdown": [
       "\n",
       "Resources: Github, Gitter, EventBrite\n",
       "\n",
       "# Callisto Caffeine\n",
       "\n",
       "* November 11, 2017\n",
       "* Georgia Tech Research Institute\n",
       "* Contributing.md\n",
       "\n",
       "## About\n",
       "\n",
       "__Callisto Caffeine__ is a mini-conference orbitting the planet Jupyter.  Discuss  Jupyter newbies and veterans Join us on November 11, 2017 at the Georgia Tech Research Institute\n"
      ],
      "text/plain": [
       "<IPython.core.display.Markdown object>"
      ]
     },
     "metadata": {},
     "output_type": "display_data"
    }
   ],
   "source": [
    "about.md"
   ]
  },
  {
   "cell_type": "code",
   "execution_count": 6,
   "metadata": {},
   "outputs": [
    {
     "data": {
      "text/markdown": [
       "    presentations = (\n",
       "        a.getsource().loads().get('cells').pluck('source')\n",
       "        // (the.first() * str.strip * a.fnmatch('# __*:*-*:*__')) \n",
       "        / a[a.first(), a.itemgetter(slice(2,None, None)) * '\\n'.join] * a.sorted(key=the.first()) * list)"
      ],
      "text/plain": [
       "<IPython.core.display.Markdown object>"
      ]
     },
     "metadata": {},
     "output_type": "display_data"
    }
   ],
   "source": [
    "    presentations = (\n",
    "        a.getsource().loads().get('cells').pluck('source')\n",
    "        // (the.first() * str.strip * a.fnmatch('# __*:*-*:*__')) \n",
    "        / a[a.first(), a.itemgetter(slice(2,None, None)) * '\\n'.join] * a.sorted(key=the.first()) * list)"
   ]
  },
  {
   "cell_type": "code",
   "execution_count": 14,
   "metadata": {},
   "outputs": [
    {
     "data": {
      "text/markdown": [
       "# Long Format Presentations\n",
       "\n",
       "\n",
       "* __10:15-10:45__\n",
       "\n",
       "\n",
       "\n",
       "---\n",
       "\n",
       "\n",
       "* __10:45-11:15__\n",
       "\n",
       "\n",
       "# [Powers ofTen and the relative size of things in science](# \"Nick and Tony\")\n",
       "\n",
       "\n",
       "\n",
       "> Nick Bollweg and Tony Fast\n",
       "\n",
       "\n",
       "\n",
       "Science, and its application to engineering, policy, and business, ultimately affects people and communities. In solving new problems, while we may make use of ever more data and computers, we must also have greater impact and reach for people.  Open science, along with open source software and open data, continues to expand the frontiers of innovation.\n",
       "\n",
       "\n",
       "\n",
       "Join Nick and Tony in traversing the powers of ten with data-driven stories.  Experts in visual problem solving with Jupyter, Nick and Tony have explored problems across technology silos, length scales, and disciplines.  Together, we hope to provide a rough map of what might be on open science’s frontier of reusable, computable information, or, failing that, a style guide for any citizen scientist looking to access new powers often from the cutting edges of open science and software.\n",
       "\n",
       "\n",
       "\n",
       "<iframe width=\"640\" height=\"360\" src=\"https://www.youtube.com/embed/0fKBhvDjuy0\" frameborder=\"0\" allowfullscreen></iframe>\n",
       "\n",
       "---\n",
       "\n",
       "\n",
       "* __9:45-10:15__\n",
       "\n",
       "\n",
       "\n",
       "---\n",
       "\n"
      ],
      "text/plain": [
       "<IPython.core.display.Markdown object>"
      ]
     },
     "metadata": {},
     "output_type": "display_data"
    }
   ],
   "source": [
    "# Long Format Presentations\n",
    "\n",
    "{% for time , abstract in presentations(long) %}\n",
    "{{'* ' + time.lstrip('#').lstrip()}}\n",
    "\n",
    "{{abstract}}\n",
    "\n",
    "---\n",
    "\n",
    "{% endfor %}"
   ]
  },
  {
   "cell_type": "code",
   "execution_count": 16,
   "metadata": {},
   "outputs": [
    {
     "data": {
      "text/markdown": [
       "# Long Format Presentations\n",
       "\n",
       "\n",
       "* __11:30-11:45__\n",
       "\n",
       "\n",
       "\n",
       "---\n",
       "\n",
       "\n",
       "* __11:45-12:00__\n",
       "\n",
       "\n",
       "\n",
       "---\n",
       "\n",
       "\n",
       "* __12:00-12:10__\n",
       "\n",
       "\n",
       "\n",
       "---\n",
       "\n",
       "\n",
       "* __12:10-12:20__\n",
       "\n",
       "\n",
       "\n",
       "---\n",
       "\n",
       "\n",
       "* __12:20-12:30__\n",
       "\n",
       "\n",
       "## Collective Questions\n",
       "\n",
       "---\n",
       "\n"
      ],
      "text/plain": [
       "<IPython.core.display.Markdown object>"
      ]
     },
     "metadata": {},
     "output_type": "display_data"
    }
   ],
   "source": [
    "# Long Format Presentations\n",
    "\n",
    "{% for time , abstract in presentations(short) %}\n",
    "{{'* ' + time.lstrip('#').lstrip()}}\n",
    "\n",
    "{{abstract}}\n",
    "\n",
    "---\n",
    "\n",
    "{% endfor %}"
   ]
  },
  {
   "cell_type": "code",
   "execution_count": 20,
   "metadata": {},
   "outputs": [
    {
     "data": {
      "text/markdown": [
       "# [Full Schedule Schedule](https://docs.google.com/spreadsheets/d/1progwXRpRXaRc31xXmxviSD1YcysxT-U2fRdk99hzgA/edit#gid=0)\n",
       "\n",
       "    read_csv('/Users/tonyfast/Downloads/Callisto Caffiene - Sheet1 (4).csv')"
      ],
      "text/plain": [
       "<IPython.core.display.Markdown object>"
      ]
     },
     "metadata": {},
     "output_type": "display_data"
    },
    {
     "data": {
      "text/html": [
       "<div>\n",
       "<style>\n",
       "    .dataframe thead tr:only-child th {\n",
       "        text-align: right;\n",
       "    }\n",
       "\n",
       "    .dataframe thead th {\n",
       "        text-align: left;\n",
       "    }\n",
       "\n",
       "    .dataframe tbody tr th {\n",
       "        vertical-align: top;\n",
       "    }\n",
       "</style>\n",
       "<table border=\"1\" class=\"dataframe\">\n",
       "  <thead>\n",
       "    <tr style=\"text-align: right;\">\n",
       "      <th></th>\n",
       "      <th>start</th>\n",
       "      <th>end</th>\n",
       "      <th>section</th>\n",
       "      <th>description</th>\n",
       "    </tr>\n",
       "  </thead>\n",
       "  <tbody>\n",
       "    <tr>\n",
       "      <th>0</th>\n",
       "      <td>8:30</td>\n",
       "      <td>9:00</td>\n",
       "      <td>Registration</td>\n",
       "      <td>Code of Conduct</td>\n",
       "    </tr>\n",
       "    <tr>\n",
       "      <th>1</th>\n",
       "      <td>9:00</td>\n",
       "      <td>9:10</td>\n",
       "      <td>Open remarks</td>\n",
       "      <td>NaN</td>\n",
       "    </tr>\n",
       "    <tr>\n",
       "      <th>2</th>\n",
       "      <td>9:10</td>\n",
       "      <td>9:45</td>\n",
       "      <td>Panel Discussion</td>\n",
       "      <td>4 people</td>\n",
       "    </tr>\n",
       "    <tr>\n",
       "      <th>3</th>\n",
       "      <td>9:45</td>\n",
       "      <td>10:15</td>\n",
       "      <td>30 Min Case Study</td>\n",
       "      <td>NaN</td>\n",
       "    </tr>\n",
       "    <tr>\n",
       "      <th>4</th>\n",
       "      <td>10:15</td>\n",
       "      <td>10:45</td>\n",
       "      <td>30 Min Case Study</td>\n",
       "      <td>NaN</td>\n",
       "    </tr>\n",
       "    <tr>\n",
       "      <th>5</th>\n",
       "      <td>10:45</td>\n",
       "      <td>11:15</td>\n",
       "      <td>Powers Often</td>\n",
       "      <td>Nick and Tony</td>\n",
       "    </tr>\n",
       "    <tr>\n",
       "      <th>6</th>\n",
       "      <td>11:15</td>\n",
       "      <td>11:30</td>\n",
       "      <td>Break</td>\n",
       "      <td>Left over coffee</td>\n",
       "    </tr>\n",
       "    <tr>\n",
       "      <th>7</th>\n",
       "      <td>11:30</td>\n",
       "      <td>11:45</td>\n",
       "      <td>15 min talk</td>\n",
       "      <td>NaN</td>\n",
       "    </tr>\n",
       "    <tr>\n",
       "      <th>8</th>\n",
       "      <td>11:45</td>\n",
       "      <td>12:00</td>\n",
       "      <td>15 min talk</td>\n",
       "      <td>NaN</td>\n",
       "    </tr>\n",
       "    <tr>\n",
       "      <th>9</th>\n",
       "      <td>12:00</td>\n",
       "      <td>12:10</td>\n",
       "      <td>10 min talk</td>\n",
       "      <td>NaN</td>\n",
       "    </tr>\n",
       "    <tr>\n",
       "      <th>10</th>\n",
       "      <td>12:10</td>\n",
       "      <td>12:20</td>\n",
       "      <td>10 min talk</td>\n",
       "      <td>NaN</td>\n",
       "    </tr>\n",
       "    <tr>\n",
       "      <th>11</th>\n",
       "      <td>12:20</td>\n",
       "      <td>12:30</td>\n",
       "      <td>Question from previous talks</td>\n",
       "      <td>NaN</td>\n",
       "    </tr>\n",
       "    <tr>\n",
       "      <th>12</th>\n",
       "      <td>12:30</td>\n",
       "      <td>12:45</td>\n",
       "      <td>Tiny Talks</td>\n",
       "      <td>Shorts 2 min talks about the day</td>\n",
       "    </tr>\n",
       "    <tr>\n",
       "      <th>13</th>\n",
       "      <td>12:45</td>\n",
       "      <td>1:00</td>\n",
       "      <td>Business Business Business</td>\n",
       "      <td>Announcements</td>\n",
       "    </tr>\n",
       "  </tbody>\n",
       "</table>\n",
       "</div>"
      ],
      "text/plain": [
       "    start    end                       section  \\\n",
       "0    8:30   9:00                  Registration   \n",
       "1    9:00   9:10                  Open remarks   \n",
       "2    9:10   9:45              Panel Discussion   \n",
       "3    9:45  10:15             30 Min Case Study   \n",
       "4   10:15  10:45             30 Min Case Study   \n",
       "5   10:45  11:15                  Powers Often   \n",
       "6   11:15  11:30                         Break   \n",
       "7   11:30  11:45                   15 min talk   \n",
       "8   11:45  12:00                   15 min talk   \n",
       "9   12:00  12:10                   10 min talk   \n",
       "10  12:10  12:20                   10 min talk   \n",
       "11  12:20  12:30  Question from previous talks   \n",
       "12  12:30  12:45                    Tiny Talks   \n",
       "13  12:45   1:00    Business Business Business   \n",
       "\n",
       "                         description  \n",
       "0                    Code of Conduct  \n",
       "1                                NaN  \n",
       "2                           4 people  \n",
       "3                                NaN  \n",
       "4                                NaN  \n",
       "5                      Nick and Tony  \n",
       "6                   Left over coffee  \n",
       "7                                NaN  \n",
       "8                                NaN  \n",
       "9                                NaN  \n",
       "10                               NaN  \n",
       "11                               NaN  \n",
       "12  Shorts 2 min talks about the day  \n",
       "13                     Announcements  "
      ]
     },
     "execution_count": 20,
     "metadata": {},
     "output_type": "execute_result"
    }
   ],
   "source": [
    "# [Full Schedule Schedule](https://docs.google.com/spreadsheets/d/1progwXRpRXaRc31xXmxviSD1YcysxT-U2fRdk99hzgA/edit#gid=0)\n",
    "\n",
    "    read_csv('/Users/tonyfast/Downloads/Callisto Caffiene - Sheet1 (4).csv')"
   ]
  }
 ],
 "metadata": {
  "kernelspec": {
   "display_name": "Python 3",
   "language": "python",
   "name": "python3"
  },
  "language_info": {
   "codemirror_mode": {
    "name": "ipython",
    "version": 3
   },
   "file_extension": ".py",
   "mimetype": "text/x-python",
   "name": "python",
   "nbconvert_exporter": "python",
   "pygments_lexer": "ipython3",
   "version": "3.5.3"
  }
 },
 "nbformat": 4,
 "nbformat_minor": 2
}
