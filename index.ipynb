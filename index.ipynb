{
 "cells": [
  {
   "cell_type": "code",
   "execution_count": 2,
   "metadata": {
    "collapsed": true
   },
   "outputs": [],
   "source": [
    "    %reload_ext literacy.template\n",
    "    from pandas import *"
   ]
  },
  {
   "cell_type": "code",
   "execution_count": 2,
   "metadata": {
    "collapsed": true
   },
   "outputs": [
    {
     "data": {
      "text/markdown": [
       "\n",
       "# Callist☾ M☾rn One\n",
       "\n",
       "## _on_ Saturday November 11, 2017 _@_ the Georgia Tech Research Institute\n",
       "\n",
       "__Callisto Morn__ is a satellite conference orbitting the Project Jupyter.  At each __Callisto Morn__, Jupyter beginners and veterans will join to share the gravity of their work.  These events will organize designers, developers, and scientists across the southeast region.\n",
       "\n",
       "## [Submit a Talk](https://docs.google.com/forms/d/e/1FAIpQLSfY1c4y2vLE-q3VMBjOpvTi4pK5D6Q9KudNk25AsxQUjsT3eA/viewform)\n",
       "\n",
       "\n",
       "## [Github](https://github.com/callisto-morns/one) \n",
       "\n",
       "\n",
       "## [Questions?](https://github.com/callisto-morns/one/issues) \n",
       "\n",
       "[![Gitter chat](https://badges.gitter.im/callisto-one/Lobby.png)](https://gitter.im/callisto-one/Lobby)\n",
       "\n",
       "---\n",
       "\n",
       "## Announcements\n",
       "\n",
       "{% for post in site.posts %}\n",
       "\n",
       "### [{{ post.title }}]({{ post.url }}) <small>{{post.date}}</small>\n",
       "\n",
       "{% endfor %}\n",
       "\n",
       "# Coming Soon\n",
       "\n",
       "## ~~[Very Afforable Tickets]()~~\n"
      ],
      "text/plain": [
       "<IPython.core.display.Markdown object>"
      ]
     },
     "metadata": {},
     "output_type": "display_data"
    }
   ],
   "source": [
    "about.md"
   ]
  },
  {
   "cell_type": "code",
   "execution_count": 2,
   "metadata": {
    "collapsed": true
   },
   "outputs": [
    {
     "data": {
      "text/markdown": [
       "\n",
       "* __9:45-10:15__\n",
       "\n",
       "* __10:15-10:45__\n",
       "\n",
       "* __10:45-11:15__\n",
       "\n",
       "# [Powers of_ten_ and the relative size of things in science](# \"Nick and Tony\")\n",
       "\n",
       "#### [Nick Bollweg](https://github.com/bollwyvl) and [Tony Fast](https://github.com/tonyfast)\n",
       "Science, and its application to engineering, policy, and business, ultimately affects people and communities. In solving new problems, while we may make use of ever more data and computers, we must also have greater impact and reach for people.  Open science, along with open source software and open data, continues to expand the frontiers of innovation.\n",
       "\n",
       "Join Nick and Tony in traversing the powers of ten with data-driven stories.  Experts in visual problem solving with Jupyter, Nick and Tony have explored problems across technology silos, length scales, and disciplines.  Together, we hope to provide a rough map of what might be on open science’s frontier of reusable, computable information, or, failing that, a style guide for any citizen scientist looking to access new powers often from the cutting edges of open science and software.\n",
       "\n",
       "<iframe width=\"640\" height=\"360\" src=\"https://www.youtube.com/embed/0fKBhvDjuy0\" frameborder=\"0\" allowfullscreen></iframe>\n",
       "\n",
       "* __11:30-11:40__\n",
       "\n",
       "* __11:40-11:50__\n",
       "\n",
       "# [SQL with Jupyter Notebooks](# )\n",
       "\n",
       "#### [Greg Werner](https://github.com/jgwerner)\n",
       "\n",
       "Many data analysts love SQL for data analysis, for good reason. SQL is a powerful language and is used by countless data analysts and data scientists alike. As some of these personas transition from analysts to data scientists (where the world is indeed gray), having a SQL editor within Jupyter Notebooks becomes a powerful proposition. Learn how to add open source SQL editors as extensions to Jupyter Notebooks with this talk. Source code will be available for all attendees.\n",
       "\n",
       "* __11:50-12:05__\n",
       "\n",
       "* __12:05-12:20__\n",
       "\n",
       "# [Dynamic Notebook Generation for Reports]()\n",
       "\n",
       "#### [Casey Hartnett](https://github.com/caseyhartnett)\n",
       "\n",
       "> Use a Jupyter notebook to generate another Jupyter notebook.\n",
       "\n",
       "In particular, we dynamically generate a report based on inputs. Our example, will be an alert detection algorithm for several metrics at a hotel, and the report can be generated for one hotel, many hotels or all hotels in the system. Having this ability forgoes the need to rewrite repetitive cells of code and instead use loops to perform the work.\n",
       "\n",
       "* __12:25-12:40__\n",
       "\n",
       "\n",
       "```python\n",
       "\n",
       "```\n"
      ],
      "text/plain": [
       "<IPython.core.display.Markdown object>"
      ]
     },
     "metadata": {},
     "output_type": "display_data"
    }
   ],
   "source": [
    "talks.md"
   ]
  },
  {
   "cell_type": "code",
   "execution_count": null,
   "metadata": {},
   "outputs": [],
   "source": [
    "# [Full Schedule Schedule](https://docs.google.com/spreadsheets/d/1progwXRpRXaRc31xXmxviSD1YcysxT-U2fRdk99hzgA/edit#gid=0)\n",
    "\n",
    "    read_csv('schedule.csv')"
   ]
  },
  {
   "cell_type": "code",
   "execution_count": null,
   "metadata": {
    "collapsed": true
   },
   "outputs": [],
   "source": [
    "contributing.md"
   ]
  }
 ],
 "metadata": {
  "kernelspec": {
   "display_name": "Python 3",
   "language": "python",
   "name": "python3"
  },
  "language_info": {
   "codemirror_mode": {
    "name": "ipython",
    "version": 3
   },
   "file_extension": ".py",
   "mimetype": "text/x-python",
   "name": "python",
   "nbconvert_exporter": "python",
   "pygments_lexer": "ipython3",
   "version": "3.5.3"
  }
 },
 "nbformat": 4,
 "nbformat_minor": 2
}
